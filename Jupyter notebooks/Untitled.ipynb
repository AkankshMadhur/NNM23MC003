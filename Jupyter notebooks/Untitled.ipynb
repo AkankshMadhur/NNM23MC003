{
 "cells": [
  {
   "cell_type": "code",
   "execution_count": 1,
   "id": "901e36a5",
   "metadata": {},
   "outputs": [
    {
     "name": "stdout",
     "output_type": "stream",
     "text": [
      "hi\n"
     ]
    }
   ],
   "source": [
    "print(\"hi\")"
   ]
  },
  {
   "cell_type": "code",
   "execution_count": 3,
   "id": "62b882e7",
   "metadata": {},
   "outputs": [
    {
     "name": "stdout",
     "output_type": "stream",
     "text": [
      "cube: 125\n"
     ]
    }
   ],
   "source": [
    "cube=lambda y: y*y*y\n",
    "print(\"cube:\",cube(5))"
   ]
  },
  {
   "cell_type": "code",
   "execution_count": 4,
   "id": "4085ea02",
   "metadata": {},
   "outputs": [
    {
     "name": "stdout",
     "output_type": "stream",
     "text": [
      "The sum of 1 and 2 is 3\n"
     ]
    }
   ],
   "source": [
    "# Define a recursive function to add two numbers\n",
    "def add_numbers_recursive(x, y):\n",
    "    if y == 0:\n",
    "        return x\n",
    "    else:\n",
    "        return add_numbers_recursive(x + 1, y - 1)\n",
    "\n",
    "# Take input from the user\n",
    "num1 = 1\n",
    "num2 = 2\n",
    "\n",
    "# Call the recursive function to add the two numbers\n",
    "result = add_numbers_recursive(num1, num2)\n",
    "\n",
    "# Print the result\n",
    "print(\"The sum of\", num1, \"and\", num2, \"is\", result)\n"
   ]
  },
  {
   "cell_type": "code",
   "execution_count": 26,
   "id": "628d5ac7",
   "metadata": {},
   "outputs": [
    {
     "name": "stdout",
     "output_type": "stream",
     "text": [
      "12 24 36\n"
     ]
    }
   ],
   "source": [
    "def add_no(x,y):\n",
    "    if y==0:\n",
    "        return x\n",
    "    else:\n",
    "        return add_no ( x + 1, y - 1)\n",
    "a=12\n",
    "b=24\n",
    "\n",
    "res = add_no(a,b)\n",
    "\n",
    "print(a,b,res)\n"
   ]
  },
  {
   "cell_type": "code",
   "execution_count": 30,
   "id": "6a3f6da5",
   "metadata": {},
   "outputs": [
    {
     "name": "stdout",
     "output_type": "stream",
     "text": [
      "1\n"
     ]
    }
   ],
   "source": [
    "a=5\n",
    "b=3\n",
    "res = a&b\n",
    "print(res)"
   ]
  },
  {
   "cell_type": "code",
   "execution_count": 32,
   "id": "51ff61bc",
   "metadata": {},
   "outputs": [
    {
     "name": "stdout",
     "output_type": "stream",
     "text": [
      "[1, 2, 3, 4, 5, 6]\n"
     ]
    }
   ],
   "source": [
    "list1 = [1, 2, 3]\n",
    "list2 = [4, 5, 6]\n",
    "\n",
    "combined_list = list1 + list2\n",
    "print(combined_list) "
   ]
  },
  {
   "cell_type": "code",
   "execution_count": 35,
   "id": "f85f49c3",
   "metadata": {},
   "outputs": [
    {
     "name": "stdout",
     "output_type": "stream",
     "text": [
      "[1, 1, 2, 6, 4, 9]\n",
      "[1, 2, 4, 6, 9]\n"
     ]
    }
   ],
   "source": [
    "arr=[1,1,2,6,4,9]\n",
    "print(arr)\n",
    "arr=list(set(arr))\n",
    "print(arr)"
   ]
  },
  {
   "cell_type": "code",
   "execution_count": 36,
   "id": "91b44762",
   "metadata": {},
   "outputs": [
    {
     "ename": "NameError",
     "evalue": "name 'List' is not defined",
     "output_type": "error",
     "traceback": [
      "\u001b[0;31m---------------------------------------------------------------------------\u001b[0m",
      "\u001b[0;31mNameError\u001b[0m                                 Traceback (most recent call last)",
      "\u001b[0;32m/tmp/ipykernel_8780/1581306516.py\u001b[0m in \u001b[0;36m<module>\u001b[0;34m\u001b[0m\n\u001b[0;32m----> 1\u001b[0;31m \u001b[0;32mclass\u001b[0m \u001b[0mSolution\u001b[0m\u001b[0;34m:\u001b[0m\u001b[0;34m\u001b[0m\u001b[0;34m\u001b[0m\u001b[0m\n\u001b[0m\u001b[1;32m      2\u001b[0m     \u001b[0;32mdef\u001b[0m \u001b[0mrunningSum\u001b[0m\u001b[0;34m(\u001b[0m\u001b[0mself\u001b[0m\u001b[0;34m,\u001b[0m \u001b[0mnums\u001b[0m\u001b[0;34m:\u001b[0m \u001b[0mList\u001b[0m\u001b[0;34m[\u001b[0m\u001b[0mint\u001b[0m\u001b[0;34m]\u001b[0m\u001b[0;34m)\u001b[0m \u001b[0;34m->\u001b[0m \u001b[0mList\u001b[0m\u001b[0;34m[\u001b[0m\u001b[0mint\u001b[0m\u001b[0;34m]\u001b[0m\u001b[0;34m:\u001b[0m\u001b[0;34m\u001b[0m\u001b[0;34m\u001b[0m\u001b[0m\n\u001b[1;32m      3\u001b[0m         \u001b[0madd\u001b[0m\u001b[0;34m=\u001b[0m\u001b[0;36m0\u001b[0m\u001b[0;34m\u001b[0m\u001b[0;34m\u001b[0m\u001b[0m\n\u001b[1;32m      4\u001b[0m         \u001b[0ml\u001b[0m\u001b[0;34m=\u001b[0m\u001b[0;34m[\u001b[0m\u001b[0;34m]\u001b[0m\u001b[0;34m\u001b[0m\u001b[0;34m\u001b[0m\u001b[0m\n\u001b[1;32m      5\u001b[0m         \u001b[0;32mfor\u001b[0m \u001b[0mi\u001b[0m \u001b[0;32min\u001b[0m \u001b[0mnums\u001b[0m\u001b[0;34m:\u001b[0m\u001b[0;34m\u001b[0m\u001b[0;34m\u001b[0m\u001b[0m\n",
      "\u001b[0;32m/tmp/ipykernel_8780/1581306516.py\u001b[0m in \u001b[0;36mSolution\u001b[0;34m()\u001b[0m\n\u001b[1;32m      1\u001b[0m \u001b[0;32mclass\u001b[0m \u001b[0mSolution\u001b[0m\u001b[0;34m:\u001b[0m\u001b[0;34m\u001b[0m\u001b[0;34m\u001b[0m\u001b[0m\n\u001b[0;32m----> 2\u001b[0;31m     \u001b[0;32mdef\u001b[0m \u001b[0mrunningSum\u001b[0m\u001b[0;34m(\u001b[0m\u001b[0mself\u001b[0m\u001b[0;34m,\u001b[0m \u001b[0mnums\u001b[0m\u001b[0;34m:\u001b[0m \u001b[0mList\u001b[0m\u001b[0;34m[\u001b[0m\u001b[0mint\u001b[0m\u001b[0;34m]\u001b[0m\u001b[0;34m)\u001b[0m \u001b[0;34m->\u001b[0m \u001b[0mList\u001b[0m\u001b[0;34m[\u001b[0m\u001b[0mint\u001b[0m\u001b[0;34m]\u001b[0m\u001b[0;34m:\u001b[0m\u001b[0;34m\u001b[0m\u001b[0;34m\u001b[0m\u001b[0m\n\u001b[0m\u001b[1;32m      3\u001b[0m         \u001b[0madd\u001b[0m\u001b[0;34m=\u001b[0m\u001b[0;36m0\u001b[0m\u001b[0;34m\u001b[0m\u001b[0;34m\u001b[0m\u001b[0m\n\u001b[1;32m      4\u001b[0m         \u001b[0ml\u001b[0m\u001b[0;34m=\u001b[0m\u001b[0;34m[\u001b[0m\u001b[0;34m]\u001b[0m\u001b[0;34m\u001b[0m\u001b[0;34m\u001b[0m\u001b[0m\n\u001b[1;32m      5\u001b[0m         \u001b[0;32mfor\u001b[0m \u001b[0mi\u001b[0m \u001b[0;32min\u001b[0m \u001b[0mnums\u001b[0m\u001b[0;34m:\u001b[0m\u001b[0;34m\u001b[0m\u001b[0;34m\u001b[0m\u001b[0m\n",
      "\u001b[0;31mNameError\u001b[0m: name 'List' is not defined"
     ]
    }
   ],
   "source": [
    "class Solution:\n",
    "    def runningSum(self, nums: List[int]) -> List[int]:\n",
    "        add=0\n",
    "        l=[]\n",
    "        for i in nums:\n",
    "            add+=i\n",
    "            l.append(add)\n",
    "            return l"
   ]
  },
  {
   "cell_type": "code",
   "execution_count": 37,
   "id": "5e64c41f",
   "metadata": {},
   "outputs": [
    {
     "ename": "NameError",
     "evalue": "name 'Solution' is not defined",
     "output_type": "error",
     "traceback": [
      "\u001b[0;31m---------------------------------------------------------------------------\u001b[0m",
      "\u001b[0;31mNameError\u001b[0m                                 Traceback (most recent call last)",
      "\u001b[0;32m/tmp/ipykernel_8780/1746502356.py\u001b[0m in \u001b[0;36m<module>\u001b[0;34m\u001b[0m\n\u001b[1;32m      1\u001b[0m \u001b[0;31m# Example usage\u001b[0m\u001b[0;34m\u001b[0m\u001b[0;34m\u001b[0m\u001b[0m\n\u001b[0;32m----> 2\u001b[0;31m \u001b[0msolution\u001b[0m \u001b[0;34m=\u001b[0m \u001b[0mSolution\u001b[0m\u001b[0;34m(\u001b[0m\u001b[0;34m)\u001b[0m\u001b[0;34m\u001b[0m\u001b[0;34m\u001b[0m\u001b[0m\n\u001b[0m\u001b[1;32m      3\u001b[0m \u001b[0mnums\u001b[0m \u001b[0;34m=\u001b[0m \u001b[0;34m[\u001b[0m\u001b[0;36m1\u001b[0m\u001b[0;34m,\u001b[0m \u001b[0;36m2\u001b[0m\u001b[0;34m,\u001b[0m \u001b[0;36m3\u001b[0m\u001b[0;34m,\u001b[0m \u001b[0;36m4\u001b[0m\u001b[0;34m]\u001b[0m\u001b[0;34m\u001b[0m\u001b[0;34m\u001b[0m\u001b[0m\n\u001b[1;32m      4\u001b[0m \u001b[0mresult\u001b[0m \u001b[0;34m=\u001b[0m \u001b[0msolution\u001b[0m\u001b[0;34m.\u001b[0m\u001b[0mrunningSum\u001b[0m\u001b[0;34m(\u001b[0m\u001b[0mnums\u001b[0m\u001b[0;34m)\u001b[0m\u001b[0;34m\u001b[0m\u001b[0;34m\u001b[0m\u001b[0m\n\u001b[1;32m      5\u001b[0m \u001b[0mprint\u001b[0m\u001b[0;34m(\u001b[0m\u001b[0mresult\u001b[0m\u001b[0;34m)\u001b[0m  \u001b[0;31m# Output: [1, 3, 6, 10]\u001b[0m\u001b[0;34m\u001b[0m\u001b[0;34m\u001b[0m\u001b[0m\n",
      "\u001b[0;31mNameError\u001b[0m: name 'Solution' is not defined"
     ]
    }
   ],
   "source": [
    "# Example usage\n",
    "solution = Solution()\n",
    "nums = [1, 2, 3, 4]\n",
    "result = solution.runningSum(nums)\n",
    "print(result)  # Output: [1, 3, 6, 10]"
   ]
  },
  {
   "cell_type": "code",
   "execution_count": 45,
   "id": "d6a9bc41",
   "metadata": {},
   "outputs": [],
   "source": [
    "from typing import List\n",
    "\n",
    "class Solution:\n",
    "    def runningSum(self, nums: List[int]) -> List[int]:\n",
    "        add = 0\n",
    "        l = []\n",
    "        for i in nums:\n",
    "            add += i \n",
    "            print(add)# Add the current number to the running total\n",
    "            l.append(add)  # Append the running total to the list\n",
    "        return l  # Return the list after the loop completes"
   ]
  },
  {
   "cell_type": "code",
   "execution_count": 46,
   "id": "0a5d82e8",
   "metadata": {},
   "outputs": [
    {
     "name": "stdout",
     "output_type": "stream",
     "text": [
      "1\n",
      "3\n",
      "6\n",
      "10\n",
      "[1, 3, 6, 10]\n"
     ]
    }
   ],
   "source": [
    "# Example usage\n",
    "solution = Solution()\n",
    "nums = [1, 2, 3, 4]\n",
    "result = solution.runningSum(nums)\n",
    "print(result)  # Output: [1, 3, 6, 10]"
   ]
  },
  {
   "cell_type": "code",
   "execution_count": 48,
   "id": "aee188cb",
   "metadata": {},
   "outputs": [
    {
     "name": "stdout",
     "output_type": "stream",
     "text": [
      "The sum of the first 5 natural numbers is: 15\n"
     ]
    }
   ],
   "source": [
    "def sum_natural_numbers(n):\n",
    "    total = 0\n",
    "    for i in range(1, n + 1):\n",
    "        total += i\n",
    "    return total\n",
    "\n",
    "# Example usage\n",
    "n = 5\n",
    "result = sum_natural_numbers(n)\n",
    "print(f\"The sum of the first {n} natural numbers is: {result}\")  # Output: 15"
   ]
  },
  {
   "cell_type": "code",
   "execution_count": 77,
   "id": "6bd176e5",
   "metadata": {},
   "outputs": [
    {
     "name": "stdout",
     "output_type": "stream",
     "text": [
      "15\n"
     ]
    }
   ],
   "source": [
    "def summ(n):\n",
    "    total = 0\n",
    "    for i in range( 0, n + 1):\n",
    "        total= total + i\n",
    "    return total\n",
    "\n",
    "\n",
    "\n",
    "result = summ(5)\n",
    "print(result)  "
   ]
  },
  {
   "cell_type": "code",
   "execution_count": 9,
   "id": "cd618f60",
   "metadata": {},
   "outputs": [
    {
     "name": "stdout",
     "output_type": "stream",
     "text": [
      "8\n"
     ]
    }
   ],
   "source": [
    "hashmap={}\n",
    "\n",
    "hashmap['apple']=3\n",
    "hashmap['orange']=5\n",
    "\n",
    "print(hashmap['apple']+hashmap['orange'])"
   ]
  },
  {
   "cell_type": "code",
   "execution_count": 2,
   "id": "3a2434ef",
   "metadata": {},
   "outputs": [
    {
     "name": "stdout",
     "output_type": "stream",
     "text": [
      "True\n"
     ]
    }
   ],
   "source": [
    "print('orange'in hashmap)"
   ]
  },
  {
   "cell_type": "code",
   "execution_count": 3,
   "id": "950ec471",
   "metadata": {},
   "outputs": [
    {
     "name": "stdout",
     "output_type": "stream",
     "text": [
      "apple: 3\n",
      "orange: 5\n"
     ]
    }
   ],
   "source": [
    "\n",
    "#test\n",
    "for key, value in hashmap.items():\n",
    "    print(f'{key}: {value}')"
   ]
  },
  {
   "cell_type": "code",
   "execution_count": 4,
   "id": "d81ce3ca",
   "metadata": {},
   "outputs": [
    {
     "name": "stdout",
     "output_type": "stream",
     "text": [
      "Hello, my name is Alice and I am 30 years old.\n"
     ]
    }
   ],
   "source": [
    "name = 'Alice'\n",
    "age = 30\n",
    "\n",
    "# Using % operator\n",
    "message = 'Hello, my name is %s and I am %d years old.' % (name, age)\n",
    "print(message)"
   ]
  },
  {
   "cell_type": "code",
   "execution_count": 10,
   "id": "309765f1",
   "metadata": {},
   "outputs": [
    {
     "name": "stdout",
     "output_type": "stream",
     "text": [
      "Hello, my name is Alice and I am 30 years old.\n"
     ]
    }
   ],
   "source": [
    "name = 'Alice'\n",
    "age = 30\n",
    "\n",
    "# Using str.format() method\n",
    "message = f\"Hello, my name is {name} and I am {age} years old.\"\n",
    "print(message)\n"
   ]
  },
  {
   "cell_type": "code",
   "execution_count": null,
   "id": "15446bde",
   "metadata": {},
   "outputs": [],
   "source": [
    "name = 'Alice'\n",
    "age = 30\n",
    "\n",
    "# Using f-string\n",
    "message = f'Hello, my name is {name} and I am {age} years old.'\n",
    "print(message)\n"
   ]
  },
  {
   "cell_type": "code",
   "execution_count": 2,
   "id": "949edb2d",
   "metadata": {},
   "outputs": [
    {
     "name": "stdout",
     "output_type": "stream",
     "text": [
      "index:0,fruitsapple\n",
      "index:1,fruitsbanana\n",
      "index:2,fruitsorange\n"
     ]
    }
   ],
   "source": [
    "words=[\"apple\",\"banana\",\"orange\"]\n",
    "\n",
    "for i, fruits in enumerate(words):\n",
    "    print(f\"index:{i},fruits{fruits}\")"
   ]
  },
  {
   "cell_type": "code",
   "execution_count": 4,
   "id": "3dcfe082",
   "metadata": {},
   "outputs": [
    {
     "name": "stdout",
     "output_type": "stream",
     "text": [
      "index:1,name:abc\n",
      "index:2,name:cde\n",
      "index:3,name:fgh\n"
     ]
    }
   ],
   "source": [
    "x=[\"abc\",\"cde\",\"fgh\"]\n",
    "\n",
    "for i in range(len(x)):\n",
    "    print (f\"index:{i+1},name:{x[i]}\")"
   ]
  },
  {
   "cell_type": "code",
   "execution_count": 7,
   "id": "fba1dde5",
   "metadata": {},
   "outputs": [
    {
     "name": "stdout",
     "output_type": "stream",
     "text": [
      "name:abc,index:0\n",
      "name:cde,index:1\n",
      "name:fgh,index:2\n"
     ]
    }
   ],
   "source": [
    "x=[\"abc\",\"cde\",\"fgh\"]\n",
    "\n",
    "for i, name in enumerate(x):\n",
    "    print(f\"name:{name},index:{i}\")"
   ]
  },
  {
   "cell_type": "code",
   "execution_count": 1,
   "id": "b733d1b6",
   "metadata": {},
   "outputs": [
    {
     "name": "stdout",
     "output_type": "stream",
     "text": [
      "ajay\n",
      "['a', 'j', 'a', 'y']\n",
      "['y', 'a', 'j', 'a']\n"
     ]
    }
   ],
   "source": [
    "string=\"ajay\";\n",
    "\n",
    "print(string)\n",
    "\n",
    "gg=list(string)\n",
    "\n",
    "print (gg)\n",
    "gg.reverse()\n",
    "print(gg)\n"
   ]
  },
  {
   "cell_type": "code",
   "execution_count": 2,
   "id": "e8aafe1b",
   "metadata": {},
   "outputs": [
    {
     "ename": "SyntaxError",
     "evalue": "unterminated string literal (detected at line 1) (4290056243.py, line 1)",
     "output_type": "error",
     "traceback": [
      "\u001b[1;36m  Cell \u001b[1;32mIn[2], line 1\u001b[1;36m\u001b[0m\n\u001b[1;33m    list =[\"abc\",\"def,\"ghi\"]\u001b[0m\n\u001b[1;37m                          ^\u001b[0m\n\u001b[1;31mSyntaxError\u001b[0m\u001b[1;31m:\u001b[0m unterminated string literal (detected at line 1)\n"
     ]
    }
   ],
   "source": [
    "list =[\"abc\",\"def\",\"ghi\"]\n",
    "print(list)\n",
    "       "
   ]
  },
  {
   "cell_type": "code",
   "execution_count": null,
   "id": "8ba49814",
   "metadata": {},
   "outputs": [],
   "source": []
  }
 ],
 "metadata": {
  "kernelspec": {
   "display_name": "Python 3 (ipykernel)",
   "language": "python",
   "name": "python3"
  },
  "language_info": {
   "codemirror_mode": {
    "name": "ipython",
    "version": 3
   },
   "file_extension": ".py",
   "mimetype": "text/x-python",
   "name": "python",
   "nbconvert_exporter": "python",
   "pygments_lexer": "ipython3",
   "version": "3.12.4"
  }
 },
 "nbformat": 4,
 "nbformat_minor": 5
}
