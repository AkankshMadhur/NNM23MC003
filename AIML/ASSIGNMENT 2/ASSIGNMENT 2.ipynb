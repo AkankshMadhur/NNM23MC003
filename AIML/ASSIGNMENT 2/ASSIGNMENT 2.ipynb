{
 "cells": [
  {
   "cell_type": "code",
   "execution_count": 1,
   "metadata": {},
   "outputs": [
    {
     "name": "stdout",
     "output_type": "stream",
     "text": [
      "hi\n"
     ]
    }
   ],
   "source": [
    "print(\"hi\")"
   ]
  },
  {
   "cell_type": "code",
   "execution_count": 2,
   "metadata": {},
   "outputs": [],
   "source": [
    "#Q1\n",
    "\n",
    "\n",
    "def findlcm(num1,num2):\n",
    "    greater=max(num1,num2)\n",
    "    lcm=greater\n",
    "    while True:\n",
    "        if lcm%num1==0 and lcm%num2==0:\n",
    "            break\n",
    "        lcm +=greater\n",
    "    return lcm\n",
    "\n",
    "num1=int(input(\"enternum1\"))\n",
    "num2=int(input(\"enternum2\"))\n",
    "lcm=findlcm(num1,num2)\n",
    "\n",
    "print(\"lcm of\",num1,\"and\", num2 ,\"is\", lcm)     "
   ]
  },
  {
   "cell_type": "code",
   "execution_count": null,
   "metadata": {},
   "outputs": [
    {
     "name": "stdout",
     "output_type": "stream",
     "text": [
      "LCM of 5 and 5 is 5\n"
     ]
    }
   ],
   "source": [
    "\n",
    "#Q1\n",
    "\n",
    "def find_lcm(num1, num2):\n",
    "    greater = max(num1, num2)\n",
    "    lcm = greater\n",
    "    while True:\n",
    "        if lcm % num1 == 0 and lcm % num2 == 0:\n",
    "            return lcm\n",
    "        lcm += greater\n",
    "\n",
    "\n",
    "try:\n",
    "    num1 = int(input(\"Enter num1: \"))\n",
    "    num2 = int(input(\"Enter num2: \"))\n",
    "    \n",
    "    lcm = find_lcm(num1, num2)\n",
    "    \n",
    "    print(\"LCM of\", num1, \"and\", num2, \"is\", lcm)\n",
    "except ValueError:\n",
    "    print(\"Please enter valid integers.\")\n"
   ]
  },
  {
   "cell_type": "code",
   "execution_count": 4,
   "metadata": {},
   "outputs": [
    {
     "name": "stdout",
     "output_type": "stream",
     "text": [
      "Please select the operation.\n",
      "a. Add\n",
      "b. Subtract\n",
      "c. Multiply\n",
      "d. Divide\n",
      "5  +  6  =  11\n"
     ]
    }
   ],
   "source": [
    "#Q2\n",
    "\n",
    "\n",
    "def add(P, Q):    \n",
    "   \n",
    "   return P + Q   \n",
    "def subtract(P, Q):   \n",
    " \n",
    "   return P - Q   \n",
    "def multiply(P, Q):   \n",
    "  \n",
    "   return P * Q   \n",
    "def divide(P, Q):   \n",
    "\n",
    "   return P / Q    \n",
    "    \n",
    "print (\"Please select the operation.\")    \n",
    "print (\"a. Add\")    \n",
    "print (\"b. Subtract\")    \n",
    "print (\"c. Multiply\")    \n",
    "print (\"d. Divide\")    \n",
    "    \n",
    "choice = input(\"Please enter choice (a/ b/ c/ d): \")    \n",
    "    \n",
    "num_1 = int (input (\"Please enter the first number: \"))    \n",
    "num_2 = int (input (\"Please enter the second number: \"))    \n",
    "    \n",
    "if choice == 'a':    \n",
    "   print (num_1, \" + \", num_2, \" = \", add(num_1, num_2))    \n",
    "    \n",
    "elif choice == 'b':    \n",
    "   print (num_1, \" - \", num_2, \" = \", subtract(num_1, num_2))    \n",
    "    \n",
    "elif choice == 'c':    \n",
    "   print (num1, \" * \", num2, \" = \", multiply(num1, num2))    \n",
    "elif choice == 'd':    \n",
    "   print (num_1, \" / \", num_2, \" = \", divide(num_1, num_2))    \n",
    "else:    \n",
    "   print (\"This is an invalid input\")    "
   ]
  },
  {
   "cell_type": "code",
   "execution_count": 1,
   "metadata": {},
   "outputs": [
    {
     "name": "stdout",
     "output_type": "stream",
     "text": [
      "{1, 2, 4, 5, 6, 7}\n"
     ]
    }
   ],
   "source": [
    "\n",
    "#Q3\n",
    "\n",
    "\n",
    "list1=[1,1,2,4,5,6]\n",
    "list2=[6,5,5,7,4]\n",
    "\n",
    "merge=set(list1+list2)\n",
    "\n",
    "print(merge)\n",
    "\n"
   ]
  },
  {
   "cell_type": "code",
   "execution_count": 3,
   "metadata": {},
   "outputs": [
    {
     "name": "stdout",
     "output_type": "stream",
     "text": [
      "[8, 2, 3, 4, 5]\n",
      "(0, 1, 2, 3, 4)\n"
     ]
    }
   ],
   "source": [
    "\n",
    "#q4\n",
    "\n",
    "ls1=[1,2,3,4]\n",
    "ls1.append(5)\n",
    "ls1[0]=8\n",
    "print(ls1)\n",
    "\n",
    "t1=(0,1,2,3,4)\n",
    "print(t1)"
   ]
  },
  {
   "cell_type": "code",
   "execution_count": 4,
   "metadata": {},
   "outputs": [
    {
     "name": "stdout",
     "output_type": "stream",
     "text": [
      "{('Shambhavi', 3), ('Astha', 2), ('Manjeet', 4), ('Nikhil', 1)}\n"
     ]
    }
   ],
   "source": [
    "\n",
    "#converting a list into dictionary\n",
    "\n",
    "name = [ \"Manjeet\", \"Nikhil\", \"Shambhavi\", \"Astha\" ]\n",
    "roll_no = [ 4, 1, 3, 2 ]\n",
    "\n",
    "# using zip() to map values\n",
    "mapped = zip(name, roll_no)\n",
    "\n",
    "print(set(mapped))\n"
   ]
  },
  {
   "cell_type": "code",
   "execution_count": 15,
   "metadata": {},
   "outputs": [
    {
     "name": "stdout",
     "output_type": "stream",
     "text": [
      "7\n",
      "6\n",
      "0\n",
      "21\n",
      "[0, 1, 2, 3, 4, 5, 6]\n"
     ]
    }
   ],
   "source": [
    "#q5\n",
    "\n",
    "t1=(0,1,2,6,3,4,5)\n",
    "\n",
    "print(len(t1))\n",
    "\n",
    "print(max(t1))\n",
    "\n",
    "print(min(t1))\n",
    "\n",
    "print(sum(t1))\n",
    "\n",
    "print(sorted(t1))"
   ]
  },
  {
   "cell_type": "code",
   "execution_count": 25,
   "metadata": {},
   "outputs": [
    {
     "name": "stdout",
     "output_type": "stream",
     "text": [
      "[0, 1, 2, 6, 3, 4, 5]\n",
      "(0, 1, 2, 0, 3, 4, 5)\n",
      "(0, 1, 2, 6, 3, 4, 5)\n"
     ]
    }
   ],
   "source": [
    "#Q6\n",
    "\n",
    "t1=(0,1,2,6,3,4,5)\n",
    "l1=list(t1)\n",
    "print(l1)\n",
    "\n",
    "l2=[0,1,2,0,3,4,5].\n",
    "t2=tuple(l2)\n",
    "print(t2)\n",
    "\n",
    "str1=str(t1)\n",
    "print(str1)"
   ]
  },
  {
   "cell_type": "code",
   "execution_count": 30,
   "metadata": {},
   "outputs": [
    {
     "name": "stdout",
     "output_type": "stream",
     "text": [
      "INDEX:6 Fruit:apple\n",
      "INDEX:7 Fruit:banana\n",
      "INDEX:8 Fruit:orange\n"
     ]
    }
   ],
   "source": [
    "#practice\n",
    "arr=[\"apple\",\"banana\",\"orange\"]\n",
    "\n",
    "for i, fruit in enumerate(arr, start=6):\n",
    "    print(f\"INDEX:{i} Fruit:{fruit}\")\n",
    "\n",
    "\n",
    "    arr1=[\"apple\",\"banana\",\"orange\"]\n",
    "\n",
    "\n",
    "\n",
    "    "
   ]
  },
  {
   "cell_type": "code",
   "execution_count": 35,
   "metadata": {},
   "outputs": [
    {
     "name": "stdout",
     "output_type": "stream",
     "text": [
      "[6, 15]\n"
     ]
    }
   ],
   "source": [
    "ls5=[(1,2,3),(4,5,6)]\n",
    "output=[sum(tup)for tup in ls5]\n",
    "print(output)\n"
   ]
  },
  {
   "cell_type": "code",
   "execution_count": 25,
   "metadata": {},
   "outputs": [
    {
     "name": "stdout",
     "output_type": "stream",
     "text": [
      "[(1, 4), (2, 5), (3, 6)]\n"
     ]
    }
   ],
   "source": [
    "arr=[(1,2,3),(4,5,6)]\n",
    "k=zip(*arr)\n",
    "print(list(k))"
   ]
  },
  {
   "cell_type": "code",
   "execution_count": 41,
   "metadata": {},
   "outputs": [
    {
     "name": "stdout",
     "output_type": "stream",
     "text": [
      "index:0     Name:Mukesh     Age:24\n",
      "index:1     Name:Roni     Age:50\n",
      "index:2     Name:Chari     Age:18\n"
     ]
    }
   ],
   "source": [
    "names = ['Mukesh', 'Roni', 'Chari']\n",
    "ages = [24, 50, 18]\n",
    "\n",
    "for i, (name, age) in enumerate(zip(names, ages)):\n",
    "    print(f\"index:{i}     Name:{name}     Age:{age}\")\n"
   ]
  },
  {
   "cell_type": "code",
   "execution_count": 6,
   "metadata": {},
   "outputs": [
    {
     "name": "stdout",
     "output_type": "stream",
     "text": [
      "5\n",
      "7\n",
      "9\n"
     ]
    }
   ],
   "source": [
    "arr = [(1, 2, 3), (4, 5, 6)]\n",
    "\n",
    "# Transpose the list of tuples\n",
    "zipped = zip(*arr)\n",
    "\n",
    "# Sum the elements in each tuple and print the result\n",
    "for tup in zipped:\n",
    "    print(sum(tup))\n"
   ]
  },
  {
   "cell_type": "code",
   "execution_count": 22,
   "metadata": {},
   "outputs": [
    {
     "name": "stdout",
     "output_type": "stream",
     "text": [
      "[(1, 4), (2, 5), (3, 6)]\n",
      "[5, 7, 9]\n"
     ]
    }
   ],
   "source": [
    "arr = [(1, 2, 3), (4, 5, 6,)]\n",
    "\n",
    "\n",
    "zipped = zip(*arr)\n",
    "\n",
    "k=(list(zipped))\n",
    "\n",
    "print(k)\n",
    "\n",
    "\n",
    "sums = [sum(tup) for tup in k]\n",
    "\n",
    "print(sums)"
   ]
  },
  {
   "cell_type": "code",
   "execution_count": 87,
   "metadata": {},
   "outputs": [
    {
     "name": "stdout",
     "output_type": "stream",
     "text": [
      "2 1\n",
      "3 2\n",
      "4 3\n",
      "5 4\n",
      "6 5\n"
     ]
    }
   ],
   "source": [
    "arr=[1,2,3,4,5]\n",
    "\n",
    "\n",
    "for i,k in enumerate(arr, start=2):\n",
    "    print(i,k)"
   ]
  },
  {
   "cell_type": "code",
   "execution_count": 89,
   "metadata": {},
   "outputs": [
    {
     "name": "stdout",
     "output_type": "stream",
     "text": [
      "Second largest value is: 4\n"
     ]
    }
   ],
   "source": [
    "arr = [1, 2, 3, 4, 5]\n",
    "\n",
    "\n",
    "sorted_arr = list(set(sorted(arr)))\n",
    "\n",
    "\n",
    "if len(sorted_arr) < 2:\n",
    "    print(\"There is no second largest value.\")\n",
    "else:\n",
    "    second_largest = sorted_arr[-2]\n",
    "    print(\"Second largest value is:\", second_largest)\n"
   ]
  },
  {
   "cell_type": "markdown",
   "metadata": {},
   "source": []
  },
  {
   "cell_type": "code",
   "execution_count": 94,
   "metadata": {},
   "outputs": [
    {
     "name": "stdout",
     "output_type": "stream",
     "text": [
      "[5, 71, 10, 46, 86, 24, 31]\n"
     ]
    }
   ],
   "source": [
    "arr = [10, 24,71,86 ,31, 46, 5,46]\n",
    "\n",
    "\n",
    "sorted_arr = list(set(sorted(arr)))\n",
    "\n",
    "print(sorted_arr)"
   ]
  },
  {
   "cell_type": "code",
   "execution_count": 96,
   "metadata": {},
   "outputs": [
    {
     "name": "stdout",
     "output_type": "stream",
     "text": [
      "[3, 10, 12, 20, 30, 50]\n",
      "10\n",
      "20\n"
     ]
    }
   ],
   "source": []
  }
 ],
 "metadata": {
  "kernelspec": {
   "display_name": "Python 3",
   "language": "python",
   "name": "python3"
  },
  "language_info": {
   "codemirror_mode": {
    "name": "ipython",
    "version": 3
   },
   "file_extension": ".py",
   "mimetype": "text/x-python",
   "name": "python",
   "nbconvert_exporter": "python",
   "pygments_lexer": "ipython3",
   "version": "3.12.4"
  }
 },
 "nbformat": 4,
 "nbformat_minor": 2
}
