{
 "cells": [
  {
   "cell_type": "code",
   "execution_count": 1,
   "metadata": {},
   "outputs": [
    {
     "name": "stdout",
     "output_type": "stream",
     "text": [
      "hi\n"
     ]
    }
   ],
   "source": [
    "print(\"hi\")"
   ]
  },
  {
   "cell_type": "code",
   "execution_count": 2,
   "metadata": {},
   "outputs": [
    {
     "name": "stdout",
     "output_type": "stream",
     "text": [
      "lcm of 5 and 5 is 5\n"
     ]
    }
   ],
   "source": [
    "#Q1\n",
    "\n",
    "\n",
    "def findlcm(num1,num2):\n",
    "    greater=max(num1,num2)\n",
    "    lcm=greater\n",
    "    while True:\n",
    "        if lcm%num1==0 and lcm%num2==0:\n",
    "            break\n",
    "        lcm +=greater\n",
    "    return lcm\n",
    "\n",
    "num1=int(input(\"enternum1\"))\n",
    "num2=int(input(\"enternum2\"))\n",
    "lcm=findlcm(num1,num2)\n",
    "\n",
    "print(\"lcm of\",num1,\"and\", num2 ,\"is\", lcm)     "
   ]
  },
  {
   "cell_type": "code",
   "execution_count": 3,
   "metadata": {},
   "outputs": [
    {
     "name": "stdout",
     "output_type": "stream",
     "text": [
      "LCM of 5 and 5 is 5\n"
     ]
    }
   ],
   "source": [
    "\n",
    "#Q1\n",
    "\n",
    "def find_lcm(num1, num2):\n",
    "    greater = max(num1, num2)\n",
    "    lcm = greater\n",
    "    while True:\n",
    "        if lcm % num1 == 0 and lcm % num2 == 0:\n",
    "            return lcm\n",
    "        lcm += greater\n",
    "\n",
    "\n",
    "try:\n",
    "    num1 = int(input(\"Enter num1: \"))\n",
    "    num2 = int(input(\"Enter num2: \"))\n",
    "    \n",
    "    lcm = find_lcm(num1, num2)\n",
    "    \n",
    "    print(\"LCM of\", num1, \"and\", num2, \"is\", lcm)\n",
    "except ValueError:\n",
    "    print(\"Please enter valid integers.\")\n"
   ]
  },
  {
   "cell_type": "code",
   "execution_count": 4,
   "metadata": {},
   "outputs": [
    {
     "name": "stdout",
     "output_type": "stream",
     "text": [
      "Please select the operation.\n",
      "a. Add\n",
      "b. Subtract\n",
      "c. Multiply\n",
      "d. Divide\n",
      "5  +  6  =  11\n"
     ]
    }
   ],
   "source": [
    "#Q2\n",
    "\n",
    "\n",
    "def add(P, Q):    \n",
    "   \n",
    "   return P + Q   \n",
    "def subtract(P, Q):   \n",
    " \n",
    "   return P - Q   \n",
    "def multiply(P, Q):   \n",
    "  \n",
    "   return P * Q   \n",
    "def divide(P, Q):   \n",
    "\n",
    "   return P / Q    \n",
    "    \n",
    "print (\"Please select the operation.\")    \n",
    "print (\"a. Add\")    \n",
    "print (\"b. Subtract\")    \n",
    "print (\"c. Multiply\")    \n",
    "print (\"d. Divide\")    \n",
    "    \n",
    "choice = input(\"Please enter choice (a/ b/ c/ d): \")    \n",
    "    \n",
    "num_1 = int (input (\"Please enter the first number: \"))    \n",
    "num_2 = int (input (\"Please enter the second number: \"))    \n",
    "    \n",
    "if choice == 'a':    \n",
    "   print (num_1, \" + \", num_2, \" = \", add(num_1, num_2))    \n",
    "    \n",
    "elif choice == 'b':    \n",
    "   print (num_1, \" - \", num_2, \" = \", subtract(num_1, num_2))    \n",
    "    \n",
    "elif choice == 'c':    \n",
    "   print (num1, \" * \", num2, \" = \", multiply(num1, num2))    \n",
    "elif choice == 'd':    \n",
    "   print (num_1, \" / \", num_2, \" = \", divide(num_1, num_2))    \n",
    "else:    \n",
    "   print (\"This is an invalid input\")    "
   ]
  },
  {
   "cell_type": "code",
   "execution_count": 1,
   "metadata": {},
   "outputs": [
    {
     "name": "stdout",
     "output_type": "stream",
     "text": [
      "{1, 2, 4, 5, 6, 7}\n"
     ]
    }
   ],
   "source": [
    "\n",
    "#Q3\n",
    "\n",
    "\n",
    "list1=[1,1,2,4,5,6]\n",
    "list2=[6,5,5,7,4]\n",
    "\n",
    "merge=set(list1+list2)\n",
    "\n",
    "print(merge)\n",
    "\n"
   ]
  },
  {
   "cell_type": "code",
   "execution_count": 6,
   "metadata": {},
   "outputs": [
    {
     "name": "stdout",
     "output_type": "stream",
     "text": [
      "[8, 2, 3, 4, 5]\n"
     ]
    }
   ],
   "source": [
    "\n",
    "#q4\n",
    "\n",
    "ls1=[1,2,3,4]\n",
    "ls1.append(5)\n",
    "ls1[0]=8\n",
    "print(ls1)"
   ]
  }
 ],
 "metadata": {
  "kernelspec": {
   "display_name": "Python 3",
   "language": "python",
   "name": "python3"
  },
  "language_info": {
   "codemirror_mode": {
    "name": "ipython",
    "version": 3
   },
   "file_extension": ".py",
   "mimetype": "text/x-python",
   "name": "python",
   "nbconvert_exporter": "python",
   "pygments_lexer": "ipython3",
   "version": "3.10.12"
  }
 },
 "nbformat": 4,
 "nbformat_minor": 2
}
