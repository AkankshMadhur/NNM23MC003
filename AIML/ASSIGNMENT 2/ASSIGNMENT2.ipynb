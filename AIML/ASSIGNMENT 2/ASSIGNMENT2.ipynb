{
 "cells": [
  {
   "cell_type": "code",
   "execution_count": 1,
   "metadata": {},
   "outputs": [
    {
     "name": "stdout",
     "output_type": "stream",
     "text": [
      "hi\n"
     ]
    }
   ],
   "source": [
    "print(\"hi\")"
   ]
  },
  {
   "cell_type": "code",
   "execution_count": 2,
   "metadata": {},
   "outputs": [
    {
     "name": "stdout",
     "output_type": "stream",
     "text": [
      "lcm of 5 and 5 is 5\n"
     ]
    }
   ],
   "source": [
    "#Q1\n",
    "\n",
    "\n",
    "def findlcm(num1,num2):\n",
    "    greater=max(num1,num2)\n",
    "    lcm=greater\n",
    "    while True:\n",
    "        if lcm%num1==0 and lcm%num2==0:\n",
    "            break\n",
    "        lcm +=greater\n",
    "    return lcm\n",
    "\n",
    "num1=int(input(\"enternum1\"))\n",
    "num2=int(input(\"enternum2\"))\n",
    "lcm=findlcm(num1,num2)\n",
    "\n",
    "print(\"lcm of\",num1,\"and\", num2 ,\"is\", lcm)     "
   ]
  },
  {
   "cell_type": "code",
   "execution_count": 3,
   "metadata": {},
   "outputs": [
    {
     "name": "stdout",
     "output_type": "stream",
     "text": [
      "LCM of 5 and 5 is 5\n"
     ]
    }
   ],
   "source": [
    "\n",
    "#Q1\n",
    "\n",
    "def find_lcm(num1, num2):\n",
    "    greater = max(num1, num2)\n",
    "    lcm = greater\n",
    "    while True:\n",
    "        if lcm % num1 == 0 and lcm % num2 == 0:\n",
    "            return lcm\n",
    "        lcm += greater\n",
    "\n",
    "\n",
    "try:\n",
    "    num1 = int(input(\"Enter num1: \"))\n",
    "    num2 = int(input(\"Enter num2: \"))\n",
    "    \n",
    "    lcm = find_lcm(num1, num2)\n",
    "    \n",
    "    print(\"LCM of\", num1, \"and\", num2, \"is\", lcm)\n",
    "except ValueError:\n",
    "    print(\"Please enter valid integers.\")\n"
   ]
  },
  {
   "cell_type": "code",
   "execution_count": 4,
   "metadata": {},
   "outputs": [
    {
     "name": "stdout",
     "output_type": "stream",
     "text": [
      "Please select the operation.\n",
      "a. Add\n",
      "b. Subtract\n",
      "c. Multiply\n",
      "d. Divide\n",
      "5  +  6  =  11\n"
     ]
    }
   ],
   "source": [
    "#Q2\n",
    "\n",
    "\n",
    "def add(P, Q):    \n",
    "   \n",
    "   return P + Q   \n",
    "def subtract(P, Q):   \n",
    " \n",
    "   return P - Q   \n",
    "def multiply(P, Q):   \n",
    "  \n",
    "   return P * Q   \n",
    "def divide(P, Q):   \n",
    "\n",
    "   return P / Q    \n",
    "    \n",
    "print (\"Please select the operation.\")    \n",
    "print (\"a. Add\")    \n",
    "print (\"b. Subtract\")    \n",
    "print (\"c. Multiply\")    \n",
    "print (\"d. Divide\")    \n",
    "    \n",
    "choice = input(\"Please enter choice (a/ b/ c/ d): \")    \n",
    "    \n",
    "num_1 = int (input (\"Please enter the first number: \"))    \n",
    "num_2 = int (input (\"Please enter the second number: \"))    \n",
    "    \n",
    "if choice == 'a':    \n",
    "   print (num_1, \" + \", num_2, \" = \", add(num_1, num_2))    \n",
    "    \n",
    "elif choice == 'b':    \n",
    "   print (num_1, \" - \", num_2, \" = \", subtract(num_1, num_2))    \n",
    "    \n",
    "elif choice == 'c':    \n",
    "   print (num1, \" * \", num2, \" = \", multiply(num1, num2))    \n",
    "elif choice == 'd':    \n",
    "   print (num_1, \" / \", num_2, \" = \", divide(num_1, num_2))    \n",
    "else:    \n",
    "   print (\"This is an invalid input\")    "
   ]
  },
  {
   "cell_type": "code",
   "execution_count": 1,
   "metadata": {},
   "outputs": [
    {
     "name": "stdout",
     "output_type": "stream",
     "text": [
      "{1, 2, 4, 5, 6, 7}\n"
     ]
    }
   ],
   "source": [
    "\n",
    "#Q3\n",
    "\n",
    "\n",
    "list1=[1,1,2,4,5,6]\n",
    "list2=[6,5,5,7,4]\n",
    "\n",
    "merge=set(list1+list2)\n",
    "\n",
    "print(merge)\n",
    "\n"
   ]
  },
  {
   "cell_type": "code",
   "execution_count": 3,
   "metadata": {},
   "outputs": [
    {
     "name": "stdout",
     "output_type": "stream",
     "text": [
      "[8, 2, 3, 4, 5]\n",
      "(0, 1, 2, 3, 4)\n"
     ]
    }
   ],
   "source": [
    "\n",
    "#q4\n",
    "\n",
    "ls1=[1,2,3,4]\n",
    "ls1.append(5)\n",
    "ls1[0]=8\n",
    "print(ls1)\n",
    "\n",
    "t1=(0,1,2,3,4)\n",
    "print(t1)"
   ]
  },
  {
   "cell_type": "code",
   "execution_count": 4,
   "metadata": {},
   "outputs": [
    {
     "name": "stdout",
     "output_type": "stream",
     "text": [
      "{('Shambhavi', 3), ('Astha', 2), ('Manjeet', 4), ('Nikhil', 1)}\n"
     ]
    }
   ],
   "source": [
    "\n",
    "#converting a list into dictionary\n",
    "\n",
    "name = [ \"Manjeet\", \"Nikhil\", \"Shambhavi\", \"Astha\" ]\n",
    "roll_no = [ 4, 1, 3, 2 ]\n",
    "\n",
    "# using zip() to map values\n",
    "mapped = zip(name, roll_no)\n",
    "\n",
    "print(set(mapped))\n"
   ]
  },
  {
   "cell_type": "code",
   "execution_count": 15,
   "metadata": {},
   "outputs": [
    {
     "name": "stdout",
     "output_type": "stream",
     "text": [
      "7\n",
      "6\n",
      "0\n",
      "21\n",
      "[0, 1, 2, 3, 4, 5, 6]\n"
     ]
    }
   ],
   "source": [
    "#q5\n",
    "\n",
    "t1=(0,1,2,6,3,4,5)\n",
    "\n",
    "print(len(t1))\n",
    "\n",
    "print(max(t1))\n",
    "\n",
    "print(min(t1))\n",
    "\n",
    "print(sum(t1))\n",
    "\n",
    "print(sorted(t1))"
   ]
  },
  {
   "cell_type": "code",
   "execution_count": 25,
   "metadata": {},
   "outputs": [
    {
     "name": "stdout",
     "output_type": "stream",
     "text": [
      "[0, 1, 2, 6, 3, 4, 5]\n",
      "(0, 1, 2, 0, 3, 4, 5)\n",
      "(0, 1, 2, 6, 3, 4, 5)\n"
     ]
    }
   ],
   "source": [
    "#Q6\n",
    "\n",
    "t1=(0,1,2,6,3,4,5)\n",
    "l1=list(t1)\n",
    "print(l1)\n",
    "\n",
    "l2=[0,1,2,0,3,4,5]\n",
    "t2=tuple(l2)\n",
    "print(t2)\n",
    "\n",
    "str1=str(t1)\n",
    "print(str1)"
   ]
  },
  {
   "cell_type": "code",
   "execution_count": null,
   "metadata": {},
   "outputs": [],
   "source": [
    "#Q7\n"
   ]
  }
 ],
 "metadata": {
  "kernelspec": {
   "display_name": "Python 3",
   "language": "python",
   "name": "python3"
  },
  "language_info": {
   "codemirror_mode": {
    "name": "ipython",
    "version": 3
   },
   "file_extension": ".py",
   "mimetype": "text/x-python",
   "name": "python",
   "nbconvert_exporter": "python",
   "pygments_lexer": "ipython3",
   "version": "3.10.12"
  }
 },
 "nbformat": 4,
 "nbformat_minor": 2
}
