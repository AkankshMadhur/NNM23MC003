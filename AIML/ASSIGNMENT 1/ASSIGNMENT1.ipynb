{
 "cells": [
  {
   "cell_type": "code",
   "execution_count": 1,
   "metadata": {},
   "outputs": [
    {
     "name": "stdout",
     "output_type": "stream",
     "text": [
      "Mixed List: [42, 3.14, 'hello', True, [1, 2, 3]]\n",
      "i: 42, Type: <class 'int'>\n",
      "i: 3.14, Type: <class 'float'>\n",
      "i: hello, Type: <class 'str'>\n",
      "i: True, Type: <class 'bool'>\n",
      "i: [1, 2, 3], Type: <class 'list'>\n"
     ]
    }
   ],
   "source": [
    "\n",
    "mixed_list = [42, 3.14, \"hello\", True, [1, 2, 3]]\n",
    "\n",
    "\n",
    "print(\"Mixed List:\", mixed_list)\n",
    "\n",
    "\n",
    "for i in mixed_list:\n",
    "    print(f\"i: {i}, Type: {type(i)}\")\n"
   ]
  },
  {
   "cell_type": "code",
   "execution_count": 3,
   "metadata": {},
   "outputs": [
    {
     "name": "stdout",
     "output_type": "stream",
     "text": [
      "7 is not in the list.\n"
     ]
    }
   ],
   "source": [
    "\n",
    "my_list = [1, 2, 3, 4, 5]\n",
    "\n",
    "\n",
    "element_to_check = 7\n",
    "\n",
    "\n",
    "if element_to_check in my_list:\n",
    "    print(f\"{element_to_check} is in the list.\")\n",
    "else:\n",
    "    print(f\"{element_to_check} is not in the list.\")\n"
   ]
  },
  {
   "cell_type": "code",
   "execution_count": 5,
   "metadata": {},
   "outputs": [
    {
     "name": "stdout",
     "output_type": "stream",
     "text": [
      "5\n"
     ]
    }
   ],
   "source": [
    "my_list = [1, 2, 3, 4, 5]\n",
    "print(len(my_list))"
   ]
  },
  {
   "cell_type": "code",
   "execution_count": 9,
   "metadata": {},
   "outputs": [
    {
     "name": "stdout",
     "output_type": "stream",
     "text": [
      "[1, 4, 9, 16, 25]\n"
     ]
    }
   ],
   "source": [
    "n=[1,2,3,4,5]\n",
    "\n",
    "sqlist=[x**2 for x in n]\n",
    "\n",
    "print(sqlist)"
   ]
  },
  {
   "cell_type": "code",
   "execution_count": 23,
   "metadata": {},
   "outputs": [
    {
     "name": "stdout",
     "output_type": "stream",
     "text": [
      "[7, 5, 4, 3, 2, 1]\n"
     ]
    }
   ],
   "source": [
    "\n",
    "n = [1, 2, 3, 4, 7, 4, 5]\n",
    "n = set(n)\n",
    "print(sorted(n,reverse=True))"
   ]
  },
  {
   "cell_type": "code",
   "execution_count": 26,
   "metadata": {},
   "outputs": [
    {
     "name": "stdout",
     "output_type": "stream",
     "text": [
      "not same\n"
     ]
    }
   ],
   "source": [
    "ls1=[1,2,3,4,5]\n",
    "ls2=[5,4,3,6,2,1]\n",
    "set1=set(ls1)\n",
    "set2=set(ls2)\n",
    "if set1==set2:\n",
    "    print(\"list is same\")\n",
    "else:\n",
    "    print (\"not same\")"
   ]
  },
  {
   "cell_type": "code",
   "execution_count": 28,
   "metadata": {},
   "outputs": [
    {
     "name": "stdout",
     "output_type": "stream",
     "text": [
      "list is same\n"
     ]
    }
   ],
   "source": [
    "ls1=[1,2,3,4,5]\n",
    "ls2=[5,4,3,2,1]\n",
    "ls1.sort()\n",
    "ls2.sort()\n",
    "if ls1==ls2:\n",
    "    print(\"list is same\")\n",
    "else:\n",
    "    print (\"not same\")\n",
    "\n"
   ]
  },
  {
   "cell_type": "code",
   "execution_count": 30,
   "metadata": {},
   "outputs": [
    {
     "name": "stdout",
     "output_type": "stream",
     "text": [
      "[5, 7]\n"
     ]
    }
   ],
   "source": [
    "ls1=[1,3,5,7]\n",
    "ls1.remove(3)\n",
    "ls1.pop(0)\n",
    "print(ls1)"
   ]
  },
  {
   "cell_type": "code",
   "execution_count": 1,
   "metadata": {},
   "outputs": [
    {
     "name": "stdout",
     "output_type": "stream",
     "text": [
      "[1. 2. 3. 4. 5.]\n"
     ]
    }
   ],
   "source": [
    "import numpy as np\n",
    "arr=np.array([1,2,3,4,5])\n",
    "float_arr=np.asarray(arr, dtype=float)\n",
    "print(float_arr)"
   ]
  },
  {
   "cell_type": "code",
   "execution_count": 1,
   "metadata": {},
   "outputs": [
    {
     "name": "stdout",
     "output_type": "stream",
     "text": [
      "List: [1, 2, 3, 4, 5]\n",
      "Tuple: (6, 7, 8, 9, 10)\n",
      "List Array: [1 2 3 4 5]\n",
      "Tuple Array: [ 6  7  8  9 10]\n",
      "[2 3 4 5]\n"
     ]
    }
   ],
   "source": [
    "import numpy as np\n",
    "\n",
    "\n",
    "my_list = [1, 2, 3, 4, 5]\n",
    "\n",
    "\n",
    "my_tuple = (6, 7, 8, 9, 10)\n",
    "\n",
    "\n",
    "list_array = np.array(my_list)\n",
    "\n",
    "tuple_array = np.array(my_tuple)\n",
    "\n",
    "print(\"List:\", my_list)\n",
    "print(\"Tuple:\", my_tuple)\n",
    "\n",
    "print(\"List Array:\", list_array)\n",
    "print(\"Tuple Array:\", tuple_array)\n",
    "\n",
    "list_array = np.delete(list_array, np.where(list_array == 1)[0][0])\n",
    "\n",
    "print(list_array)"
   ]
  },
  {
   "cell_type": "code",
   "execution_count": 20,
   "metadata": {},
   "outputs": [
    {
     "name": "stdout",
     "output_type": "stream",
     "text": [
      "[9, 5, 9, 6, 7]\n"
     ]
    }
   ],
   "source": [
    "arr=[9,5,9,6,7,8,3,2,6,5,4]\n",
    "\n",
    "x=(arr[0:5])\n",
    "print(x)"
   ]
  },
  {
   "cell_type": "code",
   "execution_count": 25,
   "metadata": {},
   "outputs": [
    {
     "name": "stdout",
     "output_type": "stream",
     "text": [
      "['e', 'n', 't', 'e', 'r', ' ', 'a', ' ', 's', 't', 'r', 'i', 'n', 'g']\n",
      "gnter a strine\n"
     ]
    }
   ],
   "source": [
    "str=\"enter a string\"\n",
    "x=list(str)\n",
    "print(x)\n",
    "rev=str[-1]+str[1:-1]+str[0]\n",
    "print(rev)"
   ]
  },
  {
   "cell_type": "code",
   "execution_count": null,
   "metadata": {},
   "outputs": [],
   "source": []
  }
 ],
 "metadata": {
  "kernelspec": {
   "display_name": "Python 3",
   "language": "python",
   "name": "python3"
  },
  "language_info": {
   "codemirror_mode": {
    "name": "ipython",
    "version": 3
   },
   "file_extension": ".py",
   "mimetype": "text/x-python",
   "name": "python",
   "nbconvert_exporter": "python",
   "pygments_lexer": "ipython3",
   "version": "3.9.7"
  }
 },
 "nbformat": 4,
 "nbformat_minor": 2
}
